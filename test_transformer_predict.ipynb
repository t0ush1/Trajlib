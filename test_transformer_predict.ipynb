{
 "cells": [
  {
   "cell_type": "code",
   "execution_count": 1,
   "metadata": {},
   "outputs": [
    {
     "data": {
      "text/plain": [
       "Transformer(\n",
       "  (encoder): TransformerEncoder(\n",
       "    (layers): ModuleList(\n",
       "      (0-5): 6 x EncoderLayer(\n",
       "        (attention): MultiHeadAttention(\n",
       "          (W_Q): Linear(in_features=512, out_features=512, bias=True)\n",
       "          (W_K): Linear(in_features=512, out_features=512, bias=True)\n",
       "          (W_V): Linear(in_features=512, out_features=512, bias=True)\n",
       "          (W_O): Linear(in_features=512, out_features=512, bias=True)\n",
       "          (attention): ScaledDotProductAttention()\n",
       "        )\n",
       "        (ffn): PositionWiseFeedForward(\n",
       "          (fc1): Linear(in_features=512, out_features=2048, bias=True)\n",
       "          (fc2): Linear(in_features=2048, out_features=512, bias=True)\n",
       "          (relu): ReLU()\n",
       "        )\n",
       "        (norm1): LayerNorm((512,), eps=1e-05, elementwise_affine=True)\n",
       "        (norm2): LayerNorm((512,), eps=1e-05, elementwise_affine=True)\n",
       "        (dropout1): Dropout(p=0.1, inplace=False)\n",
       "        (dropout2): Dropout(p=0.1, inplace=False)\n",
       "      )\n",
       "    )\n",
       "  )\n",
       ")"
      ]
     },
     "execution_count": 1,
     "metadata": {},
     "output_type": "execute_result"
    }
   ],
   "source": [
    "from trajlib.model.model_factory import create_model\n",
    "\n",
    "\n",
    "model_config = {\n",
    "    \"model_name\": 'transformer',\n",
    "    \"num_layers\": 6,\n",
    "    \"d_model\": 512,\n",
    "    \"num_heads\": 8,\n",
    "    \"d_ff\": 2048,\n",
    "    \"dropout\": 0.1\n",
    "}\n",
    "\n",
    "model = create_model(model_config)\n",
    "model"
   ]
  },
  {
   "cell_type": "code",
   "execution_count": 2,
   "metadata": {},
   "outputs": [
    {
     "name": "stderr",
     "output_type": "stream",
     "text": [
      "1000it [00:00, 627795.84it/s]\n",
      "/data/niuyiming/TrajMM/trajlib/data_processing/utils/data_definition.py:96: FutureWarning: The behavior of DataFrame concatenation with empty or all-NA entries is deprecated. In a future version, this will no longer exclude empty or all-NA columns when determining the result dtypes. To retain the old behavior, exclude the relevant entries before the concat operation.\n",
      "  pd.concat([self.point_table, new_row_df], ignore_index=True)\n"
     ]
    }
   ],
   "source": [
    "import pandas as pd\n",
    "\n",
    "raw_data = pd.read_csv(\n",
    "    \"/data/hetianran/didi/chengdu/gps_20161101\",\n",
    "    names=[\"driver_id\", \"order_id\", \"timestamp\", \"lon\", \"lat\"],\n",
    "    nrows=1000\n",
    ")\n",
    "\n",
    "raw_data['traj_id'], unique_ids = pd.factorize(raw_data['order_id'])\n",
    "\n",
    "from trajlib.data_processing.utils.data_definition import TrajectoryData\n",
    "from tqdm import tqdm\n",
    "\n",
    "\n",
    "def load_data_chengdu(raw_data) -> TrajectoryData:\n",
    "    traj_data = TrajectoryData()\n",
    "\n",
    "    extracted_df = raw_data.loc[:, [\"traj_id\", \"driver_id\", \"order_id\"]]\n",
    "    extracted_df = extracted_df.drop_duplicates()\n",
    "    extracted_df = extracted_df.reset_index(drop=True)\n",
    "\n",
    "    traj_data.traj_table = extracted_df\n",
    "\n",
    "    data_1 = []\n",
    "    data_2 = []\n",
    "    point_counter = 1\n",
    "    for traj_id, timestamp, lon, lat in tqdm(\n",
    "        zip(\n",
    "            raw_data[\"traj_id\"],\n",
    "            raw_data[\"timestamp\"],\n",
    "            raw_data[\"lon\"],\n",
    "            raw_data[\"lat\"],\n",
    "        )\n",
    "    ):\n",
    "        data_1.append(\n",
    "            {\n",
    "                \"point_id\": point_counter,\n",
    "                \"timestamp\": timestamp,\n",
    "                \"traj_id\": traj_id,\n",
    "            }\n",
    "        )\n",
    "        data_2.append({\"lon\": lon, \"lat\": lat})\n",
    "        point_counter += 1\n",
    "\n",
    "    traj_data.batch_append_point_data(\n",
    "        new_point_data_list=data_1, extra_attr_list=data_2\n",
    "    )\n",
    "\n",
    "    return traj_data\n",
    "\n",
    "\n",
    "traj_data = load_data_chengdu(raw_data)"
   ]
  },
  {
   "cell_type": "code",
   "execution_count": 5,
   "metadata": {},
   "outputs": [
    {
     "name": "stdout",
     "output_type": "stream",
     "text": [
      "Batch 0:\n",
      "x_tensor: torch.Size([800, 10, 2])\n",
      "x_mark_tensor: torch.Size([800, 10])\n",
      "y_tensor: torch.Size([800, 10, 2])\n",
      "y_mark_tensor: torch.Size([800, 10])\n",
      "Batch 1:\n",
      "x_tensor: torch.Size([105, 10, 2])\n",
      "x_mark_tensor: torch.Size([105, 10])\n",
      "y_tensor: torch.Size([105, 10, 2])\n",
      "y_mark_tensor: torch.Size([105, 10])\n"
     ]
    }
   ],
   "source": [
    "import torch\n",
    "from torch.utils.data import DataLoader\n",
    "from trajlib.dataset.datasets import TrajectoryDataset\n",
    "\n",
    "\n",
    "# 创建 TrajectoryDataset 对象，设置输入和输出长度\n",
    "input_len = 10\n",
    "output_len = 10\n",
    "dataset = TrajectoryDataset(traj_data, input_len, output_len)\n",
    "\n",
    "# 使用 DataLoader 加载数据集\n",
    "dataloader = DataLoader(dataset, batch_size=800, shuffle=False)\n",
    "\n",
    "# 迭代数据集，打印输出\n",
    "for i, (x_tensor, x_mark_tensor, y_tensor, y_mark_tensor) in enumerate(dataloader):\n",
    "    print(f\"Batch {i}:\")\n",
    "    print(\"x_tensor:\", x_tensor.shape)\n",
    "    print(\"x_mark_tensor:\", x_mark_tensor.shape)\n",
    "    print(\"y_tensor:\", y_tensor.shape)\n",
    "    print(\"y_mark_tensor:\", y_mark_tensor.shape)"
   ]
  },
  {
   "cell_type": "code",
   "execution_count": null,
   "metadata": {},
   "outputs": [],
   "source": []
  },
  {
   "cell_type": "code",
   "execution_count": null,
   "metadata": {},
   "outputs": [],
   "source": []
  }
 ],
 "metadata": {
  "kernelspec": {
   "display_name": "Python 3",
   "language": "python",
   "name": "python3"
  },
  "language_info": {
   "codemirror_mode": {
    "name": "ipython",
    "version": 3
   },
   "file_extension": ".py",
   "mimetype": "text/x-python",
   "name": "python",
   "nbconvert_exporter": "python",
   "pygments_lexer": "ipython3",
   "version": "3.10.12"
  }
 },
 "nbformat": 4,
 "nbformat_minor": 2
}
