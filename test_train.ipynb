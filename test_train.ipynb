{
 "cells": [
  {
   "cell_type": "code",
   "execution_count": 1,
   "metadata": {},
   "outputs": [],
   "source": [
    "data_config = {\n",
    "    \"data_name\": \"chengdu\",\n",
    "    \"data_path\": \"/data/hetianran/didi/chengdu/gps_20161101\",\n",
    "    \"data_size\": 100000,\n",
    "    \"data_form\": \"grid\",\n",
    "    \"grid_step\": 100,\n",
    "    \"vocab_size\": None,\n",
    "}\n",
    "\n",
    "prediction_task_config = {\n",
    "    \"task_name\": \"prediction\",\n",
    "    \"train_mode\": \"pre-train\", # pre-train, fine-tune, test-only\n",
    "    \"dataset_prop\": (0.8, 0.1, 0.1),\n",
    "    \"input_len\": 10,\n",
    "    \"output_len\": 1,\n",
    "}\n",
    "\n",
    "similarity_task_config = {\n",
    "    \"task_name\": \"similarity\",\n",
    "    \"train_mode\": \"test-only\",\n",
    "    \"dataset_prop\": (0, 0, 1),\n",
    "    \"sub-task\": \"kNN\", # kNN, CDD\n",
    "}\n",
    "\n",
    "embedding_config = {\n",
    "    \"emb_name\": \"normal\",\n",
    "    \"emb_dim\": 256,\n",
    "    \"pre-trained\": False,\n",
    "    \"embs_path\": \"\",\n",
    "}\n",
    "\n",
    "encoder_config = {\n",
    "    \"encoder_name\": \"transformer\",\n",
    "    \"num_layers\": 6,\n",
    "    \"d_model\": embedding_config[\"emb_dim\"],\n",
    "    \"num_heads\": 8,\n",
    "    \"d_ff\": 2048,\n",
    "    \"dropout\": 0.1,\n",
    "}\n",
    "\n",
    "trainer_config = {\n",
    "    \"model_path\": \"./resource/model/backbone/backbone.pth\",\n",
    "    \"batch_size\": 64,\n",
    "    \"learning_rate\": 1e-4,\n",
    "    \"num_epochs\": 10,\n",
    "    \"optimizer\": \"adam\",\n",
    "    \"loss_function\": \"cross_entropy\",\n",
    "    \"lr_scheduler\": \"step_lr\",\n",
    "}\n",
    "\n",
    "config = {\n",
    "    \"data_config\": data_config,\n",
    "    \"task_config\": similarity_task_config,\n",
    "    \"embedding_config\": embedding_config,\n",
    "    \"encoder_config\": encoder_config,\n",
    "    \"trainer_config\": trainer_config,\n",
    "}"
   ]
  },
  {
   "cell_type": "code",
   "execution_count": null,
   "metadata": {},
   "outputs": [],
   "source": [
    "from trajlib.model.embedding.embedding_trainer import EmbeddingTrainer\n",
    "from trajlib.model.embedding.gnn import GAETrainer\n",
    "from trajlib.model.embedding.node2vec import Node2VecTrainer\n",
    "from trajlib.data.data_factory import create_data\n",
    "\n",
    "mapper: dict[str, type[EmbeddingTrainer]] = {\n",
    "    \"node2vec\": Node2VecTrainer,\n",
    "    \"gat\": GAETrainer,\n",
    "    \"gcn\": GAETrainer,\n",
    "}\n",
    "\n",
    "if embedding_config[\"pre-trained\"]:\n",
    "    _, graph_data = create_data(config)\n",
    "    trainer = mapper[embedding_config[\"emb_name\"]](embedding_config, graph_data)\n",
    "    trainer.train()"
   ]
  },
  {
   "cell_type": "code",
   "execution_count": 2,
   "metadata": {},
   "outputs": [
    {
     "name": "stdout",
     "output_type": "stream",
     "text": [
      "Launching training on 4 GPUs.\n"
     ]
    },
    {
     "name": "stderr",
     "output_type": "stream",
     "text": [
      "Detected kernel version 3.10.0, which is below the recommended minimum of 5.5.0; this can cause the process to hang. It is recommended to upgrade the kernel to the minimum version or higher.\n"
     ]
    },
    {
     "name": "stdout",
     "output_type": "stream",
     "text": [
      "Load model successfully\n"
     ]
    },
    {
     "name": "stderr",
     "output_type": "stream",
     "text": [
      "Failed to detect the name of this notebook, you can set it manually with the WANDB_NOTEBOOK_NAME environment variable to enable code saving.\n",
      "Testing: 100%|██████████| 3/3 [00:02<00:00,  1.30it/s]\n"
     ]
    },
    {
     "name": "stdout",
     "output_type": "stream",
     "text": [
      "Final Precision@2: 0.6140, Final Recall@2: 0.6140\n"
     ]
    }
   ],
   "source": [
    "from accelerate import notebook_launcher\n",
    "\n",
    "from trajlib.runner.base_runner import BaseRunner\n",
    "\n",
    "\n",
    "def accelerate_run(config):\n",
    "    runner = BaseRunner(config)\n",
    "    runner.run()\n",
    "\n",
    "# accelerate_run(config)\n",
    "\n",
    "notebook_launcher(accelerate_run, args=(config,), num_processes=4, use_port=\"29504\")\n",
    "\n",
    "# TODO debug embedding 预训练和 encoder 训练无法连续运行"
   ]
  }
 ],
 "metadata": {
  "kernelspec": {
   "display_name": "Python 3",
   "language": "python",
   "name": "python3"
  },
  "language_info": {
   "codemirror_mode": {
    "name": "ipython",
    "version": 3
   },
   "file_extension": ".py",
   "mimetype": "text/x-python",
   "name": "python",
   "nbconvert_exporter": "python",
   "pygments_lexer": "ipython3",
   "version": "3.10.12"
  }
 },
 "nbformat": 4,
 "nbformat_minor": 2
}
