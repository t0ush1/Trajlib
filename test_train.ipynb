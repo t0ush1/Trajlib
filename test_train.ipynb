{
 "cells": [
  {
   "cell_type": "code",
   "execution_count": 3,
   "metadata": {},
   "outputs": [],
   "source": [
    "chengdu_data_config = {\n",
    "    \"data_name\": \"chengdu\",\n",
    "    \"data_path\": \"/data/hetianran/didi/chengdu/gps_20161101\",\n",
    "    \"data_size\": 100000,  # None for all data\n",
    "    \"data_form\": \"grid\",  # gps, grid, roadnet\n",
    "    \"grid_step\": 100,  # 100 for 0.1 gps range, 200 for 0.2 gps range\n",
    "    \"unique\": False,\n",
    "    \"window\": (5, 128, 1),\n",
    "    \"varients\": [],  # [\"cropped\", \"distorted\"]\n",
    "    \"vocab_size\": 0,  # set by data factory\n",
    "}\n",
    "\n",
    "geolife_data_config = {\n",
    "    \"data_name\": \"geolife\",\n",
    "    \"data_path\": \"./resource/dataset/Geolife/geolife_small.csv\",\n",
    "    \"data_size\": None,\n",
    "    \"data_form\": \"grid\",\n",
    "    \"grid_step\": 200,\n",
    "    \"unique\": False,\n",
    "    \"window\": (5, 256, 256),\n",
    "    \"varients\": [],\n",
    "    \"vocab_size\": 0,\n",
    "}\n",
    "\n",
    "bj_data_config = {\n",
    "    \"data_name\": \"bj\",\n",
    "    \"data_path\": \"/data/hetianran/BJ/BJ_shuffled.csv\",\n",
    "    \"data_size\": 1000000,\n",
    "    \"data_form\": \"grid\",\n",
    "    \"grid_step\": 250,\n",
    "    \"unique\": False,\n",
    "    \"window\": (0, 128, 1),\n",
    "    \"varients\": [],\n",
    "    \"vocab_size\": 0,\n",
    "}\n",
    "\n",
    "prediction_task_config = {\n",
    "    \"task_name\": \"prediction\",\n",
    "    \"train_mode\": \"fine-tune\",  # pre-train, fine-tune, test-only\n",
    "    \"dataset_prop\": (0.8, 0.1, 0.1),\n",
    "    \"input_len\": 10,\n",
    "    \"output_len\": 1,  # only 1\n",
    "}\n",
    "\n",
    "similarity_task_config = {\n",
    "    \"task_name\": \"similarity\",\n",
    "    \"train_mode\": \"test-only\",\n",
    "    \"dataset_prop\": (0, 0, 1),\n",
    "    \"variant\": \"original\",  # cropped, distorted, original\n",
    "    \"sub-task\": \"MSS\",  # MSS, CDD, kNN\n",
    "}\n",
    "\n",
    "filling_task_config = {\n",
    "    \"task_name\": \"filling\",\n",
    "    \"train_mode\": \"pre-train\",\n",
    "    \"dataset_prop\": (0.9, 0.1, 0),\n",
    "    \"sub-task\": \"mlm\",  # mlm, autoregressive\n",
    "}\n",
    "\n",
    "classification_task_config = {\n",
    "    \"task_name\": \"classification\",\n",
    "    \"train_mode\": \"fine-tune\",\n",
    "    \"dataset_prop\": (0.8, 0.1, 0.1),\n",
    "    \"class_attr\": \"vflag\",\n",
    "    \"num_classes\": 0,  # set by dataset factory\n",
    "}\n",
    "\n",
    "embedding_config = {\n",
    "    \"emb_name\": \"normal\",\n",
    "    \"emb_dim\": 256,\n",
    "    \"pre-trained\": False,\n",
    "    \"embs_path\": \"\",\n",
    "}\n",
    "\n",
    "encoder_config = {\n",
    "    \"encoder_name\": \"transformer\",\n",
    "    \"num_layers\": 6,\n",
    "    \"d_model\": embedding_config[\"emb_dim\"],\n",
    "    \"num_heads\": 8,\n",
    "    \"d_ff\": 2048,\n",
    "    \"dropout\": 0.1,\n",
    "}\n",
    "\n",
    "trainer_config = {\n",
    "    \"model_path\": \"./resource/model/backbone/backbone.pth\",\n",
    "    \"batch_size\": 64,\n",
    "    \"learning_rate\": 1e-4,\n",
    "    \"num_epochs\": 10,\n",
    "    \"optimizer\": \"adam\",\n",
    "    \"loss_function\": \"cross_entropy\",\n",
    "    \"lr_scheduler\": \"step_lr\",\n",
    "}\n",
    "\n",
    "config = {\n",
    "    \"data_config\": bj_data_config,\n",
    "    \"task_config\": classification_task_config,\n",
    "    \"embedding_config\": embedding_config,\n",
    "    \"encoder_config\": encoder_config,\n",
    "    \"trainer_config\": trainer_config,\n",
    "}"
   ]
  },
  {
   "cell_type": "code",
   "execution_count": null,
   "metadata": {},
   "outputs": [],
   "source": [
    "from trajlib.data.data_factory import create_data\n",
    "from trajlib.dataset.dataset_factory import create_dataset\n",
    "\n",
    "data, _ = create_data(config)\n",
    "\n",
    "print(len(data.grid))\n",
    "print(len(data))\n",
    "\n",
    "lens = []\n",
    "for traj in data.original:\n",
    "    lens.append(len(traj))\n",
    "print(min(lens), max(lens), sum(lens) / len(lens))\n",
    "\n",
    "dataset, _, _ = create_dataset(config, data)"
   ]
  },
  {
   "cell_type": "code",
   "execution_count": null,
   "metadata": {},
   "outputs": [],
   "source": [
    "from trajlib.model.embedding.embedding_trainer import EmbeddingTrainer\n",
    "from trajlib.model.embedding.gnn import GAETrainer\n",
    "from trajlib.model.embedding.node2vec import Node2VecTrainer\n",
    "from trajlib.data.data_factory import create_data\n",
    "\n",
    "mapper: dict[str, type[EmbeddingTrainer]] = {\n",
    "    \"node2vec\": Node2VecTrainer,\n",
    "    \"gat\": GAETrainer,\n",
    "    \"gcn\": GAETrainer,\n",
    "}\n",
    "\n",
    "if embedding_config[\"pre-trained\"]:\n",
    "    _, graph_data = create_data(config)\n",
    "    trainer = mapper[embedding_config[\"emb_name\"]](embedding_config, graph_data)\n",
    "    trainer.train()"
   ]
  },
  {
   "cell_type": "code",
   "execution_count": 4,
   "metadata": {},
   "outputs": [
    {
     "name": "stdout",
     "output_type": "stream",
     "text": [
      "Launching training on 2 GPUs.\n"
     ]
    },
    {
     "name": "stderr",
     "output_type": "stream",
     "text": [
      "Detected kernel version 3.10.0, which is below the recommended minimum of 5.5.0; this can cause the process to hang. It is recommended to upgrade the kernel to the minimum version or higher.\n"
     ]
    },
    {
     "name": "stdout",
     "output_type": "stream",
     "text": [
      "Counter({1: 23008, 0: 9590})\n",
      "Counter({1: 23008, 0: 9590})\n",
      "Load model successfully\n"
     ]
    },
    {
     "name": "stderr",
     "output_type": "stream",
     "text": [
      "Failed to detect the name of this notebook, you can set it manually with the WANDB_NOTEBOOK_NAME environment variable to enable code saving.\n",
      "Epoch 1 Train: 100%|██████████| 204/204 [00:06<00:00, 30.45it/s]\n",
      "Epoch 1 Valid: 100%|██████████| 26/26 [00:00<00:00, 41.10it/s]\n",
      "Epoch 1  Test: 100%|██████████| 26/26 [00:00<00:00, 37.95it/s]\n"
     ]
    },
    {
     "name": "stdout",
     "output_type": "stream",
     "text": [
      "Train Loss: 0.6453, Val Loss: 0.5805, Test Loss: 0.5745, Test Accuracy: 0.7122\n"
     ]
    },
    {
     "name": "stderr",
     "output_type": "stream",
     "text": [
      "Epoch 2 Train: 100%|██████████| 204/204 [00:05<00:00, 36.20it/s]\n",
      "Epoch 2 Valid: 100%|██████████| 26/26 [00:00<00:00, 39.66it/s]\n",
      "Epoch 2  Test: 100%|██████████| 26/26 [00:01<00:00, 17.05it/s]\n"
     ]
    },
    {
     "name": "stdout",
     "output_type": "stream",
     "text": [
      "Train Loss: 0.5744, Val Loss: 0.5695, Test Loss: 0.5621, Test Accuracy: 0.7125\n"
     ]
    },
    {
     "name": "stderr",
     "output_type": "stream",
     "text": [
      "Epoch 3 Train: 100%|██████████| 204/204 [00:05<00:00, 36.66it/s]\n",
      "Epoch 3 Valid: 100%|██████████| 26/26 [00:00<00:00, 37.70it/s]\n",
      "Epoch 3  Test: 100%|██████████| 26/26 [00:00<00:00, 38.53it/s]\n"
     ]
    },
    {
     "name": "stdout",
     "output_type": "stream",
     "text": [
      "Train Loss: 0.5667, Val Loss: 0.5661, Test Loss: 0.5579, Test Accuracy: 0.7119\n"
     ]
    },
    {
     "name": "stderr",
     "output_type": "stream",
     "text": [
      "Epoch 4 Train: 100%|██████████| 204/204 [00:05<00:00, 37.54it/s]\n",
      "Epoch 4 Valid: 100%|██████████| 26/26 [00:00<00:00, 41.46it/s]\n",
      "Epoch 4  Test: 100%|██████████| 26/26 [00:00<00:00, 38.67it/s]\n"
     ]
    },
    {
     "name": "stdout",
     "output_type": "stream",
     "text": [
      "Train Loss: 0.5638, Val Loss: 0.5646, Test Loss: 0.5560, Test Accuracy: 0.7140\n"
     ]
    },
    {
     "name": "stderr",
     "output_type": "stream",
     "text": [
      "Epoch 5 Train: 100%|██████████| 204/204 [00:05<00:00, 36.50it/s]\n",
      "Epoch 5 Valid: 100%|██████████| 26/26 [00:00<00:00, 40.14it/s]\n",
      "Epoch 5  Test: 100%|██████████| 26/26 [00:00<00:00, 36.27it/s]\n"
     ]
    },
    {
     "name": "stdout",
     "output_type": "stream",
     "text": [
      "Train Loss: 0.5617, Val Loss: 0.5636, Test Loss: 0.5547, Test Accuracy: 0.7186\n"
     ]
    },
    {
     "name": "stderr",
     "output_type": "stream",
     "text": [
      "Epoch 6 Train: 100%|██████████| 204/204 [00:05<00:00, 36.61it/s]\n",
      "Epoch 6 Valid: 100%|██████████| 26/26 [00:00<00:00, 39.63it/s]\n",
      "Epoch 6  Test: 100%|██████████| 26/26 [00:00<00:00, 38.00it/s]\n"
     ]
    },
    {
     "name": "stdout",
     "output_type": "stream",
     "text": [
      "Train Loss: 0.5608, Val Loss: 0.5626, Test Loss: 0.5534, Test Accuracy: 0.7195\n"
     ]
    },
    {
     "name": "stderr",
     "output_type": "stream",
     "text": [
      "Epoch 7 Train: 100%|██████████| 204/204 [00:05<00:00, 36.04it/s]\n",
      "Epoch 7 Valid: 100%|██████████| 26/26 [00:00<00:00, 38.56it/s]\n",
      "Epoch 7  Test: 100%|██████████| 26/26 [00:00<00:00, 38.79it/s]\n"
     ]
    },
    {
     "name": "stdout",
     "output_type": "stream",
     "text": [
      "Train Loss: 0.5597, Val Loss: 0.5617, Test Loss: 0.5523, Test Accuracy: 0.7199\n"
     ]
    },
    {
     "name": "stderr",
     "output_type": "stream",
     "text": [
      "Epoch 8 Train: 100%|██████████| 204/204 [00:05<00:00, 37.33it/s]\n",
      "Epoch 8 Valid: 100%|██████████| 26/26 [00:00<00:00, 41.00it/s]\n",
      "Epoch 8  Test: 100%|██████████| 26/26 [00:00<00:00, 40.75it/s]\n"
     ]
    },
    {
     "name": "stdout",
     "output_type": "stream",
     "text": [
      "Train Loss: 0.5581, Val Loss: 0.5609, Test Loss: 0.5512, Test Accuracy: 0.7208\n"
     ]
    },
    {
     "name": "stderr",
     "output_type": "stream",
     "text": [
      "Epoch 9 Train: 100%|██████████| 204/204 [00:05<00:00, 36.51it/s]\n",
      "Epoch 9 Valid: 100%|██████████| 26/26 [00:00<00:00, 38.63it/s]\n",
      "Epoch 9  Test: 100%|██████████| 26/26 [00:00<00:00, 36.94it/s]\n"
     ]
    },
    {
     "name": "stdout",
     "output_type": "stream",
     "text": [
      "Train Loss: 0.5568, Val Loss: 0.5602, Test Loss: 0.5503, Test Accuracy: 0.7214\n"
     ]
    },
    {
     "name": "stderr",
     "output_type": "stream",
     "text": [
      "Epoch 10 Train: 100%|██████████| 204/204 [00:05<00:00, 36.41it/s]\n",
      "Epoch 10 Valid: 100%|██████████| 26/26 [00:00<00:00, 36.87it/s]\n",
      "Epoch 10  Test: 100%|██████████| 26/26 [00:00<00:00, 36.97it/s]\n"
     ]
    },
    {
     "name": "stdout",
     "output_type": "stream",
     "text": [
      "Train Loss: 0.5566, Val Loss: 0.5595, Test Loss: 0.5494, Test Accuracy: 0.7208\n"
     ]
    },
    {
     "name": "stderr",
     "output_type": "stream",
     "text": [
      "Final Test: 100%|██████████| 26/26 [00:00<00:00, 40.14it/s]\n"
     ]
    },
    {
     "name": "stdout",
     "output_type": "stream",
     "text": [
      "Final Loss: 0.5494, Final Accuracy: 0.7208\n"
     ]
    }
   ],
   "source": [
    "from accelerate import notebook_launcher\n",
    "\n",
    "from trajlib.runner.base_runner import BaseRunner\n",
    "\n",
    "\n",
    "def accelerate_run(config):\n",
    "    runner = BaseRunner(config)\n",
    "    runner.run()\n",
    "\n",
    "import os\n",
    "os.environ[\"CUDA_VISIBLE_DEVICES\"] = \"0,1\"\n",
    "# accelerate_run(config)\n",
    "\n",
    "notebook_launcher(accelerate_run, args=(config,), num_processes=2, use_port=\"29502\")\n",
    "\n",
    "# TODO debug embedding 预训练和 encoder 训练无法连续运行"
   ]
  }
 ],
 "metadata": {
  "kernelspec": {
   "display_name": "Python 3",
   "language": "python",
   "name": "python3"
  },
  "language_info": {
   "codemirror_mode": {
    "name": "ipython",
    "version": 3
   },
   "file_extension": ".py",
   "mimetype": "text/x-python",
   "name": "python",
   "nbconvert_exporter": "python",
   "pygments_lexer": "ipython3",
   "version": "3.10.12"
  }
 },
 "nbformat": 4,
 "nbformat_minor": 2
}
