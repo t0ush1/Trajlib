{
 "cells": [
  {
   "cell_type": "code",
   "execution_count": 1,
   "metadata": {},
   "outputs": [],
   "source": [
    "data_config = {\n",
    "    \"data_name\": \"chengdu\",\n",
    "    \"data_path\": \"/data/hetianran/didi/chengdu/gps_20161101\",\n",
    "    \"data_size\": 100000,\n",
    "    \"data_form\": \"grid\",\n",
    "    \"grid_step\": 100,\n",
    "    \"vocab_size\": None,\n",
    "}\n",
    "\n",
    "task_config = {\n",
    "    \"task_name\": \"prediction\",\n",
    "    \"input_len\": 10,\n",
    "    \"output_len\": 1,\n",
    "}\n",
    "\n",
    "dataset_config = {\n",
    "    \"val_prop\": 0.1,\n",
    "    \"test_prop\": 0.1,\n",
    "}\n",
    "\n",
    "embedding_config = {\n",
    "    \"emb_name\": \"gcn\",\n",
    "    \"emb_dim\": 256,\n",
    "    \"pre-trained\": True,\n",
    "    \"embs_path\": \"./resource/model/embedding/gcn.pkl\",\n",
    "}\n",
    "\n",
    "encoder_config = {\n",
    "    \"encoder_name\": \"transformer\",\n",
    "    \"num_layers\": 6,\n",
    "    \"d_model\": embedding_config[\"emb_dim\"],\n",
    "    \"num_heads\": 8,\n",
    "    \"d_ff\": 2048,\n",
    "    \"dropout\": 0.1,\n",
    "}\n",
    "\n",
    "trainer_config = {\n",
    "    \"batch_size\": 64,\n",
    "    \"learning_rate\": 1e-4,\n",
    "    \"num_epochs\": 10,\n",
    "    \"optimizer\": \"adam\",\n",
    "    \"loss_function\": \"cross_entropy\",\n",
    "    \"lr_scheduler\": \"step_lr\",\n",
    "}\n",
    "\n",
    "config = {\n",
    "    \"data_config\": data_config,\n",
    "    \"task_config\": task_config,\n",
    "    \"dataset_config\": dataset_config,\n",
    "    \"embedding_config\": embedding_config,\n",
    "    \"encoder_config\": encoder_config,\n",
    "    \"trainer_config\": trainer_config,\n",
    "}"
   ]
  },
  {
   "cell_type": "code",
   "execution_count": null,
   "metadata": {},
   "outputs": [],
   "source": [
    "from trajlib.model.embedding.embedding_trainer import EmbeddingTrainer\n",
    "from trajlib.model.embedding.gnn import GAETrainer\n",
    "from trajlib.model.embedding.node2vec import Node2VecTrainer\n",
    "from trajlib.data.data_factory import create_data\n",
    "\n",
    "mapper: dict[str, type[EmbeddingTrainer]] = {\n",
    "    \"node2vec\": Node2VecTrainer,\n",
    "    \"gat\": GAETrainer,\n",
    "    \"gcn\": GAETrainer\n",
    "}\n",
    "\n",
    "if embedding_config[\"pre-trained\"]:\n",
    "    _, graph_data = create_data(config)\n",
    "    trainer = mapper[embedding_config[\"emb_name\"]](embedding_config, graph_data)\n",
    "    trainer.train()"
   ]
  },
  {
   "cell_type": "code",
   "execution_count": 2,
   "metadata": {},
   "outputs": [
    {
     "name": "stdout",
     "output_type": "stream",
     "text": [
      "Launching training on 4 GPUs.\n"
     ]
    },
    {
     "name": "stderr",
     "output_type": "stream",
     "text": [
      "Detected kernel version 3.10.0, which is below the recommended minimum of 5.5.0; this can cause the process to hang. It is recommended to upgrade the kernel to the minimum version or higher.\n",
      "Failed to detect the name of this notebook, you can set it manually with the WANDB_NOTEBOOK_NAME environment variable to enable code saving.\n",
      "Epoch: 1: 100%|██████████| 295/295 [00:13<00:00, 21.24it/s]\n"
     ]
    },
    {
     "name": "stdout",
     "output_type": "stream",
     "text": [
      "Epoch: 1, Train Loss: 6.6384102595054495, Val Loss: 4.650101700344601, Test Loss: 4.601358890533447, Test Acc: 0.5222187042236328\n"
     ]
    },
    {
     "name": "stderr",
     "output_type": "stream",
     "text": [
      "Epoch: 2: 100%|██████████| 295/295 [00:12<00:00, 22.80it/s]\n"
     ]
    },
    {
     "name": "stdout",
     "output_type": "stream",
     "text": [
      "Epoch: 2, Train Loss: 3.6746511103743216, Val Loss: 2.823658311689222, Test Loss: 2.758627414703369, Test Acc: 0.7236186265945435\n"
     ]
    },
    {
     "name": "stderr",
     "output_type": "stream",
     "text": [
      "Epoch: 3: 100%|██████████| 295/295 [00:12<00:00, 23.10it/s]\n"
     ]
    },
    {
     "name": "stdout",
     "output_type": "stream",
     "text": [
      "Epoch: 3, Train Loss: 2.3886157920805076, Val Loss: 2.0130702128281466, Test Loss: 1.9515337944030762, Test Acc: 0.809417724609375\n"
     ]
    },
    {
     "name": "stderr",
     "output_type": "stream",
     "text": [
      "Epoch: 4: 100%|██████████| 295/295 [00:12<00:00, 23.18it/s]\n"
     ]
    },
    {
     "name": "stdout",
     "output_type": "stream",
     "text": [
      "Epoch: 4, Train Loss: 1.771884443800328, Val Loss: 1.6250996654098098, Test Loss: 1.5709587335586548, Test Acc: 0.8551278114318848\n"
     ]
    },
    {
     "name": "stderr",
     "output_type": "stream",
     "text": [
      "Epoch: 5: 100%|██████████| 295/295 [00:12<00:00, 23.07it/s]\n"
     ]
    },
    {
     "name": "stdout",
     "output_type": "stream",
     "text": [
      "Epoch: 5, Train Loss: 1.4450899400953519, Val Loss: 1.400683721980533, Test Loss: 1.3554611206054688, Test Acc: 0.8848233819007874\n"
     ]
    },
    {
     "name": "stderr",
     "output_type": "stream",
     "text": [
      "Epoch: 6: 100%|██████████| 295/295 [00:12<00:00, 23.21it/s]\n"
     ]
    },
    {
     "name": "stdout",
     "output_type": "stream",
     "text": [
      "Epoch: 6, Train Loss: 1.251190911713293, Val Loss: 1.2722050338178068, Test Loss: 1.2325098514556885, Test Acc: 0.9034892320632935\n"
     ]
    },
    {
     "name": "stderr",
     "output_type": "stream",
     "text": [
      "Epoch: 7: 100%|██████████| 295/295 [00:12<00:00, 23.04it/s]\n"
     ]
    },
    {
     "name": "stdout",
     "output_type": "stream",
     "text": [
      "Epoch: 7, Train Loss: 1.1217485207622333, Val Loss: 1.1857797584018193, Test Loss: 1.1471209526062012, Test Acc: 0.9140948057174683\n"
     ]
    },
    {
     "name": "stderr",
     "output_type": "stream",
     "text": [
      "Epoch: 8: 100%|██████████| 295/295 [00:13<00:00, 22.66it/s]\n"
     ]
    },
    {
     "name": "stdout",
     "output_type": "stream",
     "text": [
      "Epoch: 8, Train Loss: 1.0310354232788086, Val Loss: 1.1251483172983736, Test Loss: 1.0858763456344604, Test Acc: 0.9206702709197998\n"
     ]
    },
    {
     "name": "stderr",
     "output_type": "stream",
     "text": [
      "Epoch: 9: 100%|██████████| 295/295 [00:12<00:00, 23.14it/s]\n"
     ]
    },
    {
     "name": "stdout",
     "output_type": "stream",
     "text": [
      "Epoch: 9, Train Loss: 0.9633079577300508, Val Loss: 1.0722939597593772, Test Loss: 1.0307695865631104, Test Acc: 0.9287304878234863\n"
     ]
    },
    {
     "name": "stderr",
     "output_type": "stream",
     "text": [
      "Epoch: 10: 100%|██████████| 295/295 [00:12<00:00, 22.85it/s]\n"
     ]
    },
    {
     "name": "stdout",
     "output_type": "stream",
     "text": [
      "Epoch: 10, Train Loss: 0.9103893556837308, Val Loss: 1.0318831817523852, Test Loss: 0.990290641784668, Test Acc: 0.9356241226196289\n",
      "Final Test Loss: 0.990290641784668, Final Test Accuracy: 0.9356241226196289\n"
     ]
    }
   ],
   "source": [
    "from accelerate import notebook_launcher\n",
    "\n",
    "from trajlib.runner.base_runner import BaseRunner\n",
    "\n",
    "\n",
    "def accelerate_run(config):\n",
    "    runner = BaseRunner(config)\n",
    "    runner.run()\n",
    "\n",
    "\n",
    "notebook_launcher(accelerate_run, args=(config,), num_processes=4, use_port=\"29501\")\n",
    "\n",
    "# TODO debug embedding 预训练和 encoder 训练无法连续运行"
   ]
  }
 ],
 "metadata": {
  "kernelspec": {
   "display_name": "Python 3",
   "language": "python",
   "name": "python3"
  },
  "language_info": {
   "codemirror_mode": {
    "name": "ipython",
    "version": 3
   },
   "file_extension": ".py",
   "mimetype": "text/x-python",
   "name": "python",
   "nbconvert_exporter": "python",
   "pygments_lexer": "ipython3",
   "version": "3.10.12"
  }
 },
 "nbformat": 4,
 "nbformat_minor": 2
}
