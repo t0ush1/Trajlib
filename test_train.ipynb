{
 "cells": [
  {
   "cell_type": "code",
   "execution_count": 1,
<<<<<<< HEAD
   "metadata": {},
   "outputs": [
    {
     "name": "stdout",
     "output_type": "stream",
     "text": [
      "2.5.1\n",
      "True\n",
      "NVIDIA A100-PCIE-40GB\n",
      "4\n",
      "12.4\n"
     ]
    }
   ],
   "source": [
    "import torch\n",
    "print(torch.__version__)                # 查看pytorch安装的版本号\n",
    "print(torch.cuda.is_available())        # 查看cuda是否可用。True为可用，即是gpu版本pytorch\n",
    "print(torch.cuda.get_device_name(0))    # 返回GPU型号\n",
    "print(torch.cuda.device_count())        # 返回可以用的cuda（GPU）数量，0代表一个\n",
    "print(torch.version.cuda)               # 查看cuda的版本"
   ]
  },
  {
   "cell_type": "code",
   "execution_count": 1,
=======
>>>>>>> d46ad5d9cc834b3e78370095a479189c6a674282
   "metadata": {},
   "outputs": [],
   "source": [
    "data_config = {\n",
    "    \"data_name\": \"chengdu\",\n",
    "    \"data_path\": \"/data/hetianran/didi/chengdu/gps_20161101\",\n",
<<<<<<< HEAD
    "    \"data_size\": 1000,\n",
    "    \"data_form\": \"roadnet\",\n",
    "    # \"grid_step\": 100,\n",
=======
    "    \"data_size\": 100000,\n",
    "    \"data_form\": \"grid\",\n",
    "    \"grid_step\": 100,\n",
    "    \"vocab_size\": None,\n",
>>>>>>> d46ad5d9cc834b3e78370095a479189c6a674282
    "}\n",
    "\n",
    "task_config = {\n",
    "    \"task_name\": \"prediction\",\n",
    "    \"input_len\": 10,\n",
    "    \"output_len\": 1,\n",
    "}\n",
    "\n",
    "dataset_config = {\n",
    "    \"val_prop\": 0.1,\n",
    "    \"test_prop\": 0.1,\n",
    "}\n",
    "\n",
    "embedding_config = {\n",
    "    \"emb_name\": \"node2vec\",\n",
    "    \"emb_dim\": 256,\n",
    "    \"pre-trained\": True,\n",
    "    \"embs_path\": \"./resource/model/embedding/node2vec.pkl\",\n",
    "}\n",
    "\n",
    "encoder_config = {\n",
    "    \"encoder_name\": \"transformer\",\n",
    "    \"num_layers\": 6,\n",
    "    \"d_model\": embedding_config[\"emb_dim\"],\n",
    "    \"num_heads\": 8,\n",
    "    \"d_ff\": 2048,\n",
    "    \"dropout\": 0.1,\n",
    "}\n",
    "\n",
    "trainer_config = {\n",
    "    \"batch_size\": 64,\n",
    "    \"learning_rate\": 1e-4,\n",
    "    \"num_epochs\": 10,\n",
    "    \"optimizer\": \"adam\",\n",
    "    \"loss_function\": \"cross_entropy\",\n",
    "    \"lr_scheduler\": \"step_lr\",\n",
    "}\n",
    "\n",
    "config = {\n",
    "    \"data_config\": data_config,\n",
    "    \"task_config\": task_config,\n",
    "    \"dataset_config\": dataset_config,\n",
    "    \"embedding_config\": embedding_config,\n",
    "    \"encoder_config\": encoder_config,\n",
    "    \"trainer_config\": trainer_config,\n",
    "}"
   ]
  },
  {
   "cell_type": "code",
   "execution_count": 2,
   "metadata": {},
   "outputs": [
    {
     "name": "stderr",
     "output_type": "stream",
     "text": [
      "/home/wangzitong/anaconda3/envs/traj/lib/python3.10/site-packages/tqdm/auto.py:21: TqdmWarning: IProgress not found. Please update jupyter and ipywidgets. See https://ipywidgets.readthedocs.io/en/stable/user_install.html\n",
      "  from .autonotebook import tqdm as notebook_tqdm\n"
     ]
    },
    {
     "name": "stdout",
     "output_type": "stream",
     "text": [
      "181 181\n",
      "157 157\n",
      "205 205\n",
      "221 221\n",
      "225 225\n",
      "2654\n"
     ]
    }
   ],
   "source": [
    "from trajlib.model.embedding.node2vec import train_node2vec, cal_edge_index\n",
    "from trajlib.data.data_factory import create_data\n",
    "\n",
    "# from trajlib.data.data_reader.chengdu import read_data_chengdu\n",
    "# raw_data = read_data_chengdu(data_config[\"data_path\"], data_config[\"data_size\"])\n",
    "\n",
    "# raw_data\n",
    "_, graph_data = create_data(config)\n",
    "# train_node2vec(cal_edge_index(graph_data))\n",
    "print(config[\"model_config\"][\"vocab_size\"])\n",
    "# 20000: 2784 13.92%\n",
    "# 5082 2298"
   ]
  },
  {
   "cell_type": "code",
   "execution_count": 3,
   "metadata": {},
   "outputs": [],
   "source": [
    "import json\n",
    "import geopandas as gpd\n",
    "\n",
    "# 提取 RoadNetSystem 核心数据\n",
    "road_net = graph_data.road_net\n",
    "\n",
    "# 保存 edges 的索引（u, v）和列数据\n",
    "edges_df = road_net.edges.reset_index()  # 将索引 u, v 转为普通列\n",
    "road_net_data = {\n",
    "    \"bounds\": road_net.bounds,\n",
    "    \"cache_dir\": road_net.cache_dir,\n",
    "    \"network_type\": road_net.network_type,\n",
    "    \"nodes\": road_net.nodes.to_crs(epsg=4326).to_json(),\n",
    "    \"edges\": edges_df.to_crs(epsg=4326).to_json(),\n",
    "}\n",
    "\n",
    "\n",
    "# 写入文件\n",
    "with open('road_net.json', 'w') as f:\n",
    "    json.dump(road_net_data, f)"
   ]
  },
  {
   "cell_type": "code",
   "execution_count": 5,
   "metadata": {},
   "outputs": [],
   "source": [
    "from trajlib.data.RoadNetSystem import RoadNetSystem\n",
    "from trajlib.data.data import RoadNetGraphData\n",
    "import json\n",
    "import geopandas as gpd\n",
    "\n",
    "# 加载 RoadNetSystem 数据\n",
    "with open('road_net.json', 'r') as f:\n",
    "    road_net_data = json.load(f)\n",
    "\n",
    "# 重建 nodes 和 edges（包含 u, v 索引）\n",
    "nodes = gpd.GeoDataFrame.from_features(json.loads(road_net_data[\"nodes\"]), crs=\"EPSG:4326\")\n",
    "edges = gpd.GeoDataFrame.from_features(json.loads(road_net_data[\"edges\"]), crs=\"EPSG:4326\")\n",
    "\n",
    "# 将 u, v 重新设为索引并排序（保持与原数据一致）\n",
    "edges = edges.set_index([\"u\", \"v\", \"key\"]).sort_index()\n",
    "\n",
    "# 重建 RoadNetSystem 对象\n",
    "road_net = RoadNetSystem(\n",
    "    bounds=road_net_data[\"bounds\"],\n",
    "    cache_dir=road_net_data[\"cache_dir\"],\n",
    "    network_type=road_net_data[\"network_type\"]\n",
    ")\n",
    "# 直接注入 nodes 和 edges（跳过网络下载）\n",
    "road_net.nodes = nodes\n",
    "road_net.edges = edges\n",
    "\n",
    "# 重建 RoadNetGraphData 对象\n",
    "graph_data = RoadNetGraphData(road_net)"
   ]
  },
  {
   "cell_type": "code",
   "execution_count": null,
   "metadata": {},
   "outputs": [],
   "source": [
<<<<<<< HEAD
    "from trajlib.model.embedding.node2vec import train_node2vec, cal_edge_index\n",
    "graph_data.road_net.edges\n",
    "# edge_index = []\n",
    "# matched_rows = graph_data.road_net.edges[graph_data.road_net.edges['osmid'] == 834256916]\n",
    "# print(834256916 in graph_data._all_osmids)\n",
    "# matched_rows\n",
    "# for node in graph_data.get_nodes():\n",
    "#     matched_rows = graph_data.road_net.edges[graph_data.road_net.edges['osmid'] == 834256916]\n",
    "#     if matched_rows.empty:\n",
    "#         print(\"未找到匹配的行:\", node)\n",
    "\n",
    "    # for neighbor in graph_data.get_neighbors(node):\n",
    "        \n",
    "    #     # print(\"neighbor:\", neighbor)\n",
    "    #     edge_index.append([node, neighbor])"
   ]
  },
  {
   "cell_type": "code",
   "execution_count": 7,
   "metadata": {},
   "outputs": [
    {
     "name": "stderr",
     "output_type": "stream",
     "text": [
      "INFO:root:[node2vec] start.\n",
      "100%|██████████| 411/411 [00:15<00:00, 27.08it/s]\n",
      "INFO:root:[node2vec] i_ep=0, loss=14.5211 @=15.18137240409851\n",
      "100%|██████████| 411/411 [00:13<00:00, 30.60it/s]\n",
      "INFO:root:[node2vec] i_ep=1, loss=11.7083 @=13.435073137283325\n",
      "100%|██████████| 411/411 [00:13<00:00, 29.60it/s]\n",
      "INFO:root:[node2vec] i_ep=2, loss=10.7213 @=13.889691591262817\n",
      "100%|██████████| 411/411 [00:13<00:00, 30.60it/s]\n",
      "INFO:root:[node2vec] i_ep=3, loss=10.0401 @=13.432885885238647\n",
      "100%|██████████| 411/411 [00:13<00:00, 30.69it/s]\n",
      "INFO:root:[node2vec] i_ep=4, loss=9.4496 @=13.395171642303467\n",
      "100%|██████████| 411/411 [00:13<00:00, 30.57it/s]\n",
      "INFO:root:[node2vec] i_ep=5, loss=8.8913 @=13.445263862609863\n",
      "100%|██████████| 411/411 [00:13<00:00, 30.56it/s]\n",
      "INFO:root:[node2vec] i_ep=6, loss=8.3262 @=13.451733350753784\n",
      "100%|██████████| 411/411 [00:13<00:00, 29.91it/s]\n",
      "INFO:root:[node2vec] i_ep=7, loss=7.7553 @=13.745741844177246\n",
      "/home/wangzitong/Trajlib/trajlib/model/embedding/node2vec.py:52: FutureWarning: You are using `torch.load` with `weights_only=False` (the current default value), which uses the default pickle module implicitly. It is possible to construct malicious pickle data which will execute arbitrary code during unpickling (See https://github.com/pytorch/pytorch/blob/main/SECURITY.md#untrusted-models for more details). In a future release, the default value for `weights_only` will be flipped to `True`. This limits the functions that could be executed during unpickling. Arbitrary objects will no longer be allowed to be loaded via this mode unless they are explicitly allowlisted by the user via `torch.serialization.add_safe_globals`. We recommend you start setting `weights_only=True` for any use case where you don't have full control of the loaded file. Please open an issue on GitHub for any issues related to this experimental feature.\n",
      "  checkpoint = torch.load(checkpoint_file)\n",
      "INFO:root:[save embedding] done.\n",
      "INFO:root:[node2vec] @=110, best_ep=7\n"
     ]
    },
    {
     "name": "stdout",
     "output_type": "stream",
     "text": [
      "torch.Size([6570, 512])\n"
     ]
    }
   ],
   "source": [
    "from trajlib.model.embedding.node2vec import train_node2vec, cal_edge_index\n",
    "# import torch\n",
    "# edge_index = cal_edge_index(graph_data)\n",
    "# torch.unique(edge_index).size(0)\n",
    "train_node2vec(cal_edge_index(graph_data))"
=======
    "from trajlib.model.embedding.embedding_trainer import EmbeddingTrainer\n",
    "from trajlib.model.embedding.gat import GATTrainer\n",
    "from trajlib.model.embedding.node2vec import Node2VecTrainer\n",
    "from trajlib.data.data_factory import create_data\n",
    "\n",
    "mapper: dict[str, type[EmbeddingTrainer]] = {\n",
    "    \"node2vec\": Node2VecTrainer,\n",
    "    \"gat\": GATTrainer,\n",
    "}\n",
    "\n",
    "if embedding_config[\"pre-trained\"]:\n",
    "    _, graph_data = create_data(config)\n",
    "    trainer = mapper[embedding_config[\"emb_name\"]](embedding_config, graph_data)\n",
    "    trainer.train()"
>>>>>>> d46ad5d9cc834b3e78370095a479189c6a674282
   ]
  },
  {
   "cell_type": "code",
<<<<<<< HEAD
   "execution_count": null,
=======
   "execution_count": 2,
>>>>>>> d46ad5d9cc834b3e78370095a479189c6a674282
   "metadata": {},
   "outputs": [
    {
     "name": "stderr",
     "output_type": "stream",
     "text": [
      "/home/wangzitong/anaconda3/envs/traj/lib/python3.10/site-packages/tqdm/auto.py:21: TqdmWarning: IProgress not found. Please update jupyter and ipywidgets. See https://ipywidgets.readthedocs.io/en/stable/user_install.html\n",
      "  from .autonotebook import tqdm as notebook_tqdm\n"
     ]
    },
    {
     "name": "stdout",
     "output_type": "stream",
     "text": [
      "Launching training on 4 GPUs.\n",
      "181 181\n",
      "181 181\n",
      "181 181\n",
      "181 181\n",
      "157 157157\n",
      "157  157\n",
      "157\n",
      "157 157\n",
      "205 205\n",
      "205 205\n",
      "205 205\n",
      "205 205\n",
      "221 221\n",
      "221 221\n",
      "221 221\n",
      "221 221\n",
      "225 225\n",
      "225 225\n",
      "225 225\n",
      "225 225\n"
     ]
    },
    {
     "name": "stderr",
     "output_type": "stream",
     "text": [
      "Detected kernel version 3.10.0, which is below the recommended minimum of 5.5.0; this can cause the process to hang. It is recommended to upgrade the kernel to the minimum version or higher.\n",
      "Failed to detect the name of this notebook, you can set it manually with the WANDB_NOTEBOOK_NAME environment variable to enable code saving.\n",
<<<<<<< HEAD
      "\u001b[34m\u001b[1mwandb\u001b[0m: Logging into wandb.ai. (Learn how to deploy a W&B server locally: https://wandb.me/wandb-server)\n",
      "\u001b[34m\u001b[1mwandb\u001b[0m: You can find your API key in your browser here: https://wandb.ai/authorize\n",
      "\u001b[34m\u001b[1mwandb\u001b[0m: Paste an API key from your profile and hit enter, or press ctrl+c to quit:W0401 17:27:27.959000 6747 site-packages/torch/distributed/elastic/agent/server/api.py:704] Received Signals.SIGINT death signal, shutting down workers\n",
      "\n",
      "Traceback (most recent call last):\n",
      "Aborted!\n",
      "W0401 17:27:27.964000 6747 site-packages/torch/distributed/elastic/multiprocessing/api.py:766] Closing process 7020 via signal SIGINT\n",
      "  File \"/home/wangzitong/anaconda3/envs/traj/lib/python3.10/site-packages/wandb/sdk/wandb_init.py\", line 1177, in init\n",
      "    wi.setup(kwargs)\n",
      "  File \"/home/wangzitong/anaconda3/envs/traj/lib/python3.10/site-packages/wandb/sdk/wandb_init.py\", line 301, in setup\n",
      "    wandb_login._login(\n",
      "W0401 17:27:27.966000 6747 site-packages/torch/distributed/elastic/multiprocessing/api.py:766] Closing process 7022 via signal SIGINT\n",
      "  File \"/home/wangzitong/anaconda3/envs/traj/lib/python3.10/site-packages/wandb/sdk/wandb_login.py\", line 334, in _login\n",
      "    wlogin.prompt_api_key()\n",
      "  File \"/home/wangzitong/anaconda3/envs/traj/lib/python3.10/site-packages/wandb/sdk/wandb_login.py\", line 256, in prompt_api_key\n",
      "    key, status = self._prompt_api_key()\n",
      "W0401 17:27:27.968000 6747 site-packages/torch/distributed/elastic/multiprocessing/api.py:766] Closing process 7023 via signal SIGINT\n",
      "  File \"/home/wangzitong/anaconda3/envs/traj/lib/python3.10/site-packages/wandb/sdk/wandb_login.py\", line 236, in _prompt_api_key\n",
      "    key = apikey.prompt_api_key(\n",
      "W0401 17:27:27.970000 6747 site-packages/torch/distributed/elastic/multiprocessing/api.py:766] Closing process 7024 via signal SIGINT\n"
=======
      "Epoch: 1: 100%|██████████| 295/295 [00:12<00:00, 23.62it/s]\n"
     ]
    },
    {
     "name": "stdout",
     "output_type": "stream",
     "text": [
      "Epoch: 1, Train Loss: 6.2429732581316415, Val Loss: 4.282995223999023, Test Loss: 4.201303958892822, Test Acc: 0.6198960542678833\n"
     ]
    },
    {
     "name": "stderr",
     "output_type": "stream",
     "text": [
      "Epoch: 2: 100%|██████████| 295/295 [00:12<00:00, 23.70it/s]\n"
     ]
    },
    {
     "name": "stdout",
     "output_type": "stream",
     "text": [
      "Epoch: 2, Train Loss: 3.43557003150552, Val Loss: 2.7674761076231262, Test Loss: 2.6894290447235107, Test Acc: 0.7771767973899841\n"
     ]
    },
    {
     "name": "stderr",
     "output_type": "stream",
     "text": [
      "Epoch: 3: 100%|██████████| 295/295 [00:11<00:00, 24.60it/s]\n"
     ]
    },
    {
     "name": "stdout",
     "output_type": "stream",
     "text": [
      "Epoch: 3, Train Loss: 2.332533046350641, Val Loss: 2.0706423134417147, Test Loss: 2.0040957927703857, Test Acc: 0.841446578502655\n"
     ]
    },
    {
     "name": "stderr",
     "output_type": "stream",
     "text": [
      "Epoch: 4: 100%|██████████| 295/295 [00:12<00:00, 24.52it/s]\n"
     ]
    },
    {
     "name": "stdout",
     "output_type": "stream",
     "text": [
      "Epoch: 4, Train Loss: 1.7650996321338719, Val Loss: 1.696498468115523, Test Loss: 1.6400519609451294, Test Acc: 0.878035843372345\n"
     ]
    },
    {
     "name": "stderr",
     "output_type": "stream",
     "text": [
      "Epoch: 5: 100%|██████████| 295/295 [00:12<00:00, 24.24it/s]\n"
     ]
    },
    {
     "name": "stdout",
     "output_type": "stream",
     "text": [
      "Epoch: 5, Train Loss: 1.4402742145425182, Val Loss: 1.4834094305296202, Test Loss: 1.4322717189788818, Test Acc: 0.897231936454773\n"
     ]
    },
    {
     "name": "stderr",
     "output_type": "stream",
     "text": [
      "Epoch: 6: 100%|██████████| 295/295 [00:12<00:00, 23.94it/s]\n"
     ]
    },
    {
     "name": "stdout",
     "output_type": "stream",
     "text": [
      "Epoch: 6, Train Loss: 1.2373223557310589, Val Loss: 1.351755651267799, Test Loss: 1.3029507398605347, Test Acc: 0.910064697265625\n"
     ]
    },
    {
     "name": "stderr",
     "output_type": "stream",
     "text": [
      "Epoch: 7: 100%|██████████| 295/295 [00:12<00:00, 24.51it/s]\n"
     ]
    },
    {
     "name": "stdout",
     "output_type": "stream",
     "text": [
      "Epoch: 7, Train Loss: 1.100642100633201, Val Loss: 1.2649983908679034, Test Loss: 1.2171436548233032, Test Acc: 0.9200339317321777\n"
     ]
    },
    {
     "name": "stderr",
     "output_type": "stream",
     "text": [
      "Epoch: 8: 100%|██████████| 295/295 [00:12<00:00, 24.49it/s]\n"
     ]
    },
    {
     "name": "stdout",
     "output_type": "stream",
     "text": [
      "Epoch: 8, Train Loss: 1.0008506724389934, Val Loss: 1.194121716795741, Test Loss: 1.144037127494812, Test Acc: 0.9287304878234863\n"
     ]
    },
    {
     "name": "stderr",
     "output_type": "stream",
     "text": [
      "Epoch: 9: 100%|██████████| 295/295 [00:12<00:00, 24.31it/s]\n"
     ]
    },
    {
     "name": "stdout",
     "output_type": "stream",
     "text": [
      "Epoch: 9, Train Loss: 0.9245620486089738, Val Loss: 1.1422462882222355, Test Loss: 1.0923051834106445, Test Acc: 0.9327605962753296\n"
     ]
    },
    {
     "name": "stderr",
     "output_type": "stream",
     "text": [
      "Epoch: 10: 100%|██████████| 295/295 [00:12<00:00, 24.19it/s]\n"
     ]
    },
    {
     "name": "stdout",
     "output_type": "stream",
     "text": [
      "Epoch: 10, Train Loss: 0.8618332265797308, Val Loss: 1.1043674027597583, Test Loss: 1.0541352033615112, Test Acc: 0.9359422922134399\n",
      "Final Test Loss: 1.0541352033615112, Final Test Accuracy: 0.9359422922134399\n"
>>>>>>> d46ad5d9cc834b3e78370095a479189c6a674282
     ]
    }
   ],
   "source": [
    "from accelerate import notebook_launcher\n",
    "from trajlib.runner.base_runner import BaseRunner\n",
    "\n",
    "\n",
    "def accelerate_run(config):\n",
    "    runner = BaseRunner(config)\n",
    "    runner.run()\n",
    "\n",
<<<<<<< HEAD
    "notebook_launcher(accelerate_run, args=(config,), num_processes=4)"
=======
    "\n",
    "notebook_launcher(accelerate_run, args=(config,), num_processes=4)\n",
    "\n",
    "# TODO debug embedding 预训练和 encoder 训练无法连续运行"
>>>>>>> d46ad5d9cc834b3e78370095a479189c6a674282
   ]
  }
 ],
 "metadata": {
  "kernelspec": {
   "display_name": "traj",
   "language": "python",
   "name": "python3"
  },
  "language_info": {
   "codemirror_mode": {
    "name": "ipython",
    "version": 3
   },
   "file_extension": ".py",
   "mimetype": "text/x-python",
   "name": "python",
   "nbconvert_exporter": "python",
   "pygments_lexer": "ipython3",
   "version": "3.10.12"
  }
 },
 "nbformat": 4,
 "nbformat_minor": 2
}
